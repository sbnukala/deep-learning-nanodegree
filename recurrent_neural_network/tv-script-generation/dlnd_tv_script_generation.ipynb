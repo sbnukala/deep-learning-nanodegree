{
 "cells": [
  {
   "cell_type": "markdown",
   "metadata": {},
   "source": [
    "# TV Script Generation\n",
    "In this project, you'll generate your own [Simpsons](https://en.wikipedia.org/wiki/The_Simpsons) TV scripts using RNNs.  You'll be using part of the [Simpsons dataset](https://www.kaggle.com/wcukierski/the-simpsons-by-the-data) of scripts from 27 seasons.  The Neural Network you'll build will generate a new TV script for a scene at [Moe's Tavern](https://simpsonswiki.com/wiki/Moe's_Tavern).\n",
    "## Get the Data\n",
    "The data is already provided for you.  You'll be using a subset of the original dataset.  It consists of only the scenes in Moe's Tavern.  This doesn't include other versions of the tavern, like \"Moe's Cavern\", \"Flaming Moe's\", \"Uncle Moe's Family Feed-Bag\", etc.."
   ]
  },
  {
   "cell_type": "code",
   "execution_count": 232,
   "metadata": {},
   "outputs": [],
   "source": [
    "\"\"\"\n",
    "DON'T MODIFY ANYTHING IN THIS CELL\n",
    "\"\"\"\n",
    "import helper\n",
    "\n",
    "data_dir = './data/simpsons/moes_tavern_lines.txt'\n",
    "text = helper.load_data(data_dir)\n",
    "# Ignore notice, since we don't use it for analysing the data\n",
    "text = text[81:]"
   ]
  },
  {
   "cell_type": "markdown",
   "metadata": {},
   "source": [
    "## Explore the Data\n",
    "Play around with `view_sentence_range` to view different parts of the data."
   ]
  },
  {
   "cell_type": "code",
   "execution_count": 233,
   "metadata": {},
   "outputs": [
    {
     "name": "stdout",
     "output_type": "stream",
     "text": [
      "Dataset Stats\n",
      "Roughly the number of unique words: 11492\n",
      "Number of scenes: 262\n",
      "Average number of sentences in each scene: 15.248091603053435\n",
      "Number of lines: 4257\n",
      "Average number of words in each line: 11.50434578341555\n",
      "\n",
      "The sentences 0 to 10:\n",
      "Moe_Szyslak: (INTO PHONE) Moe's Tavern. Where the elite meet to drink.\n",
      "Bart_Simpson: Eh, yeah, hello, is Mike there? Last name, Rotch.\n",
      "Moe_Szyslak: (INTO PHONE) Hold on, I'll check. (TO BARFLIES) Mike Rotch. Mike Rotch. Hey, has anybody seen Mike Rotch, lately?\n",
      "Moe_Szyslak: (INTO PHONE) Listen you little puke. One of these days I'm gonna catch you, and I'm gonna carve my name on your back with an ice pick.\n",
      "Moe_Szyslak: What's the matter Homer? You're not your normal effervescent self.\n",
      "Homer_Simpson: I got my problems, Moe. Give me another one.\n",
      "Moe_Szyslak: Homer, hey, you should not drink to forget your problems.\n",
      "Barney_Gumble: Yeah, you should only drink to enhance your social skills.\n",
      "\n",
      "\n"
     ]
    }
   ],
   "source": [
    "view_sentence_range = (0, 10)\n",
    "\n",
    "\"\"\"\n",
    "DON'T MODIFY ANYTHING IN THIS CELL\n",
    "\"\"\"\n",
    "import numpy as np\n",
    "\n",
    "print('Dataset Stats')\n",
    "print('Roughly the number of unique words: {}'.format(len({word: None for word in text.split()})))\n",
    "scenes = text.split('\\n\\n')\n",
    "print('Number of scenes: {}'.format(len(scenes)))\n",
    "sentence_count_scene = [scene.count('\\n') for scene in scenes]\n",
    "print('Average number of sentences in each scene: {}'.format(np.average(sentence_count_scene)))\n",
    "\n",
    "sentences = [sentence for scene in scenes for sentence in scene.split('\\n')]\n",
    "print('Number of lines: {}'.format(len(sentences)))\n",
    "word_count_sentence = [len(sentence.split()) for sentence in sentences]\n",
    "print('Average number of words in each line: {}'.format(np.average(word_count_sentence)))\n",
    "\n",
    "print()\n",
    "print('The sentences {} to {}:'.format(*view_sentence_range))\n",
    "print('\\n'.join(text.split('\\n')[view_sentence_range[0]:view_sentence_range[1]]))"
   ]
  },
  {
   "cell_type": "markdown",
   "metadata": {},
   "source": [
    "## Implement Preprocessing Functions\n",
    "The first thing to do to any dataset is preprocessing.  Implement the following preprocessing functions below:\n",
    "- Lookup Table\n",
    "- Tokenize Punctuation\n",
    "\n",
    "### Lookup Table\n",
    "To create a word embedding, you first need to transform the words to ids.  In this function, create two dictionaries:\n",
    "- Dictionary to go from the words to an id, we'll call `vocab_to_int`\n",
    "- Dictionary to go from the id to word, we'll call `int_to_vocab`\n",
    "\n",
    "Return these dictionaries in the following tuple `(vocab_to_int, int_to_vocab)`"
   ]
  },
  {
   "cell_type": "code",
   "execution_count": 234,
   "metadata": {},
   "outputs": [
    {
     "name": "stdout",
     "output_type": "stream",
     "text": [
      "test vocab_to_int for homer 23\n",
      "test int_to_vocab for value obtained above. Should return homer. Output homer\n",
      "Tests Passed\n"
     ]
    }
   ],
   "source": [
    "import numpy as np\n",
    "import problem_unittests as tests\n",
    "\n",
    "def create_lookup_tables(text):\n",
    "    \"\"\"\n",
    "    Create lookup tables for vocabulary\n",
    "    :param text: The text of tv scripts split into words\n",
    "    :return: A tuple of dicts (vocab_to_int, int_to_vocab)\n",
    "    \"\"\"\n",
    "    # TODO: Implement Function\n",
    "    text = set(text) #Removes duplicates, no need to sort it\n",
    "    vocab_to_int = {c: i for i, c in enumerate(text)}\n",
    "    int_to_vocab = dict(enumerate(text))\n",
    "    print(\"test vocab_to_int for homer\", vocab_to_int['homer'])\n",
    "    print(\"test int_to_vocab for value obtained above. Should return homer. Output\", int_to_vocab[vocab_to_int['homer']])\n",
    "    return vocab_to_int, int_to_vocab\n",
    "\n",
    "\n",
    "\"\"\"\n",
    "DON'T MODIFY ANYTHING IN THIS CELL THAT IS BELOW THIS LINE\n",
    "\"\"\"\n",
    "tests.test_create_lookup_tables(create_lookup_tables)"
   ]
  },
  {
   "cell_type": "markdown",
   "metadata": {},
   "source": [
    "### Tokenize Punctuation\n",
    "We'll be splitting the script into a word array using spaces as delimiters.  However, punctuations like periods and exclamation marks make it hard for the neural network to distinguish between the word \"bye\" and \"bye!\".\n",
    "\n",
    "Implement the function `token_lookup` to return a dict that will be used to tokenize symbols like \"!\" into \"||Exclamation_Mark||\".  Create a dictionary for the following symbols where the symbol is the key and value is the token:\n",
    "- Period ( . )\n",
    "- Comma ( , )\n",
    "- Quotation Mark ( \" )\n",
    "- Semicolon ( ; )\n",
    "- Exclamation mark ( ! )\n",
    "- Question mark ( ? )\n",
    "- Left Parentheses ( ( )\n",
    "- Right Parentheses ( ) )\n",
    "- Dash ( -- )\n",
    "- Return ( \\n )\n",
    "\n",
    "This dictionary will be used to token the symbols and add the delimiter (space) around it.  This separates the symbols as it's own word, making it easier for the neural network to predict on the next word. Make sure you don't use a token that could be confused as a word. Instead of using the token \"dash\", try using something like \"||dash||\"."
   ]
  },
  {
   "cell_type": "code",
   "execution_count": 235,
   "metadata": {},
   "outputs": [
    {
     "name": "stdout",
     "output_type": "stream",
     "text": [
      "Tests Passed\n"
     ]
    }
   ],
   "source": [
    "def token_lookup():\n",
    "    \"\"\"\n",
    "    Generate a dict to turn punctuation into a token.\n",
    "    :return: Tokenize dictionary where the key is the punctuation and the value is the token\n",
    "    \"\"\"\n",
    "    # TODO: Implement Function\n",
    "    punc_tokenize_dict = {\n",
    "        '.' : '||Period||',\n",
    "        ',' : '||Comma||',\n",
    "        '\"' : '||Quotation_mark||',\n",
    "        ';' : '||Semicolon||',\n",
    "        '!' : '||Exclamation_mark||',\n",
    "        '?' : '||Question_mark||',\n",
    "        '(' : '||Left_parantheses||',\n",
    "        ')' : '||Right_parantheses||',\n",
    "        '--' : '||Dash||',\n",
    "        '\\n' : '||New_line||',\n",
    "    }\n",
    "\n",
    "    return punc_tokenize_dict\n",
    "\n",
    "\"\"\"\n",
    "DON'T MODIFY ANYTHING IN THIS CELL THAT IS BELOW THIS LINE\n",
    "\"\"\"\n",
    "tests.test_tokenize(token_lookup)"
   ]
  },
  {
   "cell_type": "markdown",
   "metadata": {},
   "source": [
    "## Preprocess all the data and save it\n",
    "Running the code cell below will preprocess all the data and save it to file."
   ]
  },
  {
   "cell_type": "code",
   "execution_count": 236,
   "metadata": {},
   "outputs": [
    {
     "name": "stdout",
     "output_type": "stream",
     "text": [
      "test vocab_to_int for homer 580\n",
      "test int_to_vocab for value obtained above. Should return homer. Output homer\n"
     ]
    }
   ],
   "source": [
    "\"\"\"\n",
    "DON'T MODIFY ANYTHING IN THIS CELL\n",
    "\"\"\"\n",
    "# Preprocess Training, Validation, and Testing Data\n",
    "helper.preprocess_and_save_data(data_dir, token_lookup, create_lookup_tables)"
   ]
  },
  {
   "cell_type": "markdown",
   "metadata": {},
   "source": [
    "# Check Point\n",
    "This is your first checkpoint. If you ever decide to come back to this notebook or have to restart the notebook, you can start from here. The preprocessed data has been saved to disk."
   ]
  },
  {
   "cell_type": "code",
   "execution_count": 237,
   "metadata": {},
   "outputs": [],
   "source": [
    "\"\"\"\n",
    "DON'T MODIFY ANYTHING IN THIS CELL\n",
    "\"\"\"\n",
    "import helper\n",
    "import numpy as np\n",
    "import problem_unittests as tests\n",
    "\n",
    "int_text, vocab_to_int, int_to_vocab, token_dict = helper.load_preprocess()"
   ]
  },
  {
   "cell_type": "markdown",
   "metadata": {},
   "source": [
    "## Build the Neural Network\n",
    "You'll build the components necessary to build a RNN by implementing the following functions below:\n",
    "- get_inputs\n",
    "- get_init_cell\n",
    "- get_embed\n",
    "- build_rnn\n",
    "- build_nn\n",
    "- get_batches\n",
    "\n",
    "### Check the Version of TensorFlow and Access to GPU"
   ]
  },
  {
   "cell_type": "code",
   "execution_count": 238,
   "metadata": {},
   "outputs": [
    {
     "name": "stdout",
     "output_type": "stream",
     "text": [
      "TensorFlow Version: 1.0.0\n",
      "Default GPU Device: /gpu:0\n"
     ]
    }
   ],
   "source": [
    "\"\"\"\n",
    "DON'T MODIFY ANYTHING IN THIS CELL\n",
    "\"\"\"\n",
    "from distutils.version import LooseVersion\n",
    "import warnings\n",
    "import tensorflow as tf\n",
    "\n",
    "# Check TensorFlow Version\n",
    "assert LooseVersion(tf.__version__) >= LooseVersion('1.0'), 'Please use TensorFlow version 1.0 or newer'\n",
    "print('TensorFlow Version: {}'.format(tf.__version__))\n",
    "\n",
    "# Check for a GPU\n",
    "if not tf.test.gpu_device_name():\n",
    "    warnings.warn('No GPU found. Please use a GPU to train your neural network.')\n",
    "else:\n",
    "    print('Default GPU Device: {}'.format(tf.test.gpu_device_name()))"
   ]
  },
  {
   "cell_type": "markdown",
   "metadata": {},
   "source": [
    "### Input\n",
    "Implement the `get_inputs()` function to create TF Placeholders for the Neural Network.  It should create the following placeholders:\n",
    "- Input text placeholder named \"input\" using the [TF Placeholder](https://www.tensorflow.org/api_docs/python/tf/placeholder) `name` parameter.\n",
    "- Targets placeholder\n",
    "- Learning Rate placeholder\n",
    "\n",
    "Return the placeholders in the following tuple `(Input, Targets, LearningRate)`"
   ]
  },
  {
   "cell_type": "code",
   "execution_count": 239,
   "metadata": {},
   "outputs": [
    {
     "name": "stdout",
     "output_type": "stream",
     "text": [
      "Tests Passed\n"
     ]
    }
   ],
   "source": [
    "def get_inputs():\n",
    "    \"\"\"\n",
    "    Create TF Placeholders for input, targets, and learning rate.\n",
    "    :return: Tuple (input, targets, learning rate)\n",
    "    \"\"\"\n",
    "    # TODO: Implement Function\n",
    "    #inputs and targets are integers; No defined shape being passed as we don't know the shape of the tensor\n",
    "    # Applies to both the inputs and the targets\n",
    "    inputs = tf.placeholder(tf.int32, [None, None], name='input')\n",
    "    targets = tf.placeholder(tf.int32, [None, None], name='targets')\n",
    "    \n",
    "    # Learning rate is a float.\n",
    "    learning_rate = tf.placeholder(tf.float32)\n",
    "    # Can we also use keep probability as a part of get inputs? \n",
    "    return (inputs, targets, learning_rate)\n",
    "\n",
    "\n",
    "\"\"\"\n",
    "DON'T MODIFY ANYTHING IN THIS CELL THAT IS BELOW THIS LINE\n",
    "\"\"\"\n",
    "tests.test_get_inputs(get_inputs)"
   ]
  },
  {
   "cell_type": "markdown",
   "metadata": {},
   "source": [
    "### Build RNN Cell and Initialize\n",
    "Stack one or more [`BasicLSTMCells`](https://www.tensorflow.org/api_docs/python/tf/contrib/rnn/BasicLSTMCell) in a [`MultiRNNCell`](https://www.tensorflow.org/api_docs/python/tf/contrib/rnn/MultiRNNCell).\n",
    "- The Rnn size should be set using `rnn_size`\n",
    "- Initalize Cell State using the MultiRNNCell's [`zero_state()`](https://www.tensorflow.org/api_docs/python/tf/contrib/rnn/MultiRNNCell#zero_state) function\n",
    "    - Apply the name \"initial_state\" to the initial state using [`tf.identity()`](https://www.tensorflow.org/api_docs/python/tf/identity)\n",
    "\n",
    "Return the cell and initial state in the following tuple `(Cell, InitialState)`"
   ]
  },
  {
   "cell_type": "code",
   "execution_count": 240,
   "metadata": {},
   "outputs": [
    {
     "name": "stdout",
     "output_type": "stream",
     "text": [
      "Tests Passed\n"
     ]
    }
   ],
   "source": [
    "def get_init_cell(batch_size, rnn_size):\n",
    "    \"\"\"\n",
    "    Create an RNN Cell and initialize it.\n",
    "    :param batch_size: Size of batches\n",
    "    :param rnn_size: Size of RNNs\n",
    "    :return: Tuple (cell, initialize state)\n",
    "    \"\"\"\n",
    "    # TODO: Implement Function\n",
    "    #lets define the LSTM cell first: \n",
    "    #basic Lstm cell:\n",
    "    lstm = tf.contrib.rnn.BasicLSTMCell(rnn_size)\n",
    "    #Add dropout layer, also we can use trial and error approach for the keep prob\n",
    "    drop = tf.contrib.rnn.DropoutWrapper(lstm, output_keep_prob=0.6)\n",
    "    \n",
    "    #Define the multirnn cell. NOTE: I am using one layer for now, can modify this for more layers later\n",
    "    num_layers = 1\n",
    "    cell = tf.contrib.rnn.MultiRNNCell([drop]*num_layers)\n",
    "    \n",
    "    #Initialize the cell state now and identify it.\n",
    "    initialize_state = cell.zero_state(batch_size, tf.float32)\n",
    "    intit_state_identity = tf.identity(initialize_state, name = 'initial_state')\n",
    "    return (cell, intit_state_identity)\n",
    "\n",
    "\n",
    "\"\"\"\n",
    "DON'T MODIFY ANYTHING IN THIS CELL THAT IS BELOW THIS LINE\n",
    "\"\"\"\n",
    "tests.test_get_init_cell(get_init_cell)"
   ]
  },
  {
   "cell_type": "markdown",
   "metadata": {},
   "source": [
    "### Word Embedding\n",
    "Apply embedding to `input_data` using TensorFlow.  Return the embedded sequence."
   ]
  },
  {
   "cell_type": "code",
   "execution_count": 241,
   "metadata": {},
   "outputs": [
    {
     "name": "stdout",
     "output_type": "stream",
     "text": [
      "Tests Passed\n"
     ]
    }
   ],
   "source": [
    "def get_embed(input_data, vocab_size, embed_dim):\n",
    "    \"\"\"\n",
    "    Create embedding for <input_data>.\n",
    "    :param input_data: TF placeholder for text input.\n",
    "    :param vocab_size: Number of words in vocabulary.\n",
    "    :param embed_dim: Number of embedding dimensions\n",
    "    :return: Embedded input.\n",
    "    \"\"\"\n",
    "    # TODO: Implement Function\n",
    "    #Purpose is to add an embedding layer that we can use as a lookup table and avoid the inefficient one hot encoding for all the words we have\n",
    "    # all we do here is use the tf.Variable to create a lookup matrix for the embeddings. This takes the number of words and the number of dimensions.\n",
    "    # With this matrix, we just create a embedding vector with embedding_lookup. Size of tensor = [batch_size, no_of_units_in_this_embedding_layer]\n",
    "    embedding = tf.Variable(tf.random_uniform((vocab_size, embed_dim), -1, 1))\n",
    "    embed_input = tf.nn.embedding_lookup(embedding, input_data)\n",
    "    return embed_input\n",
    "\n",
    "\n",
    "\"\"\"\n",
    "DON'T MODIFY ANYTHING IN THIS CELL THAT IS BELOW THIS LINE\n",
    "\"\"\"\n",
    "tests.test_get_embed(get_embed)"
   ]
  },
  {
   "cell_type": "markdown",
   "metadata": {},
   "source": [
    "### Build RNN\n",
    "You created a RNN Cell in the `get_init_cell()` function.  Time to use the cell to create a RNN.\n",
    "- Build the RNN using the [`tf.nn.dynamic_rnn()`](https://www.tensorflow.org/api_docs/python/tf/nn/dynamic_rnn)\n",
    " - Apply the name \"final_state\" to the final state using [`tf.identity()`](https://www.tensorflow.org/api_docs/python/tf/identity)\n",
    "\n",
    "Return the outputs and final_state state in the following tuple `(Outputs, FinalState)` "
   ]
  },
  {
   "cell_type": "code",
   "execution_count": 242,
   "metadata": {},
   "outputs": [
    {
     "name": "stdout",
     "output_type": "stream",
     "text": [
      "Tests Passed\n"
     ]
    }
   ],
   "source": [
    "def build_rnn(cell, inputs):\n",
    "    \"\"\"\n",
    "    Create a RNN using a RNN Cell\n",
    "    :param cell: RNN Cell\n",
    "    :param inputs: Input text data\n",
    "    :return: Tuple (Outputs, Final State)\n",
    "    \"\"\"\n",
    "    # TODO: Implement Function\n",
    "    Outputs, final_state = tf.nn.dynamic_rnn(cell, inputs, dtype = tf.float32) #Note that this function has lots of options to play around with.\n",
    "    #Above function, we passed the dtype as we are not mentioning the initial state\n",
    "    FinalState = tf.identity(final_state, name = 'final_state')\n",
    "    return (Outputs, FinalState)\n",
    "\n",
    "\n",
    "\"\"\"\n",
    "DON'T MODIFY ANYTHING IN THIS CELL THAT IS BELOW THIS LINE\n",
    "\"\"\"\n",
    "tests.test_build_rnn(build_rnn)"
   ]
  },
  {
   "cell_type": "markdown",
   "metadata": {},
   "source": [
    "### Build the Neural Network\n",
    "Apply the functions you implemented above to:\n",
    "- Apply embedding to `input_data` using your `get_embed(input_data, vocab_size, embed_dim)` function.\n",
    "- Build RNN using `cell` and your `build_rnn(cell, inputs)` function.\n",
    "- Apply a fully connected layer with a linear activation and `vocab_size` as the number of outputs.\n",
    "\n",
    "Return the logits and final state in the following tuple (Logits, FinalState) "
   ]
  },
  {
   "cell_type": "code",
   "execution_count": 243,
   "metadata": {},
   "outputs": [
    {
     "name": "stdout",
     "output_type": "stream",
     "text": [
      "Tests Passed\n"
     ]
    }
   ],
   "source": [
    "def build_nn(cell, rnn_size, input_data, vocab_size, embed_dim):\n",
    "    \"\"\"\n",
    "    Build part of the neural network\n",
    "    :param cell: RNN cell\n",
    "    :param rnn_size: Size of rnns\n",
    "    :param input_data: Input data\n",
    "    :param vocab_size: Vocabulary size\n",
    "    :param embed_dim: Number of embedding dimensions\n",
    "    :return: Tuple (Logits, FinalState)\n",
    "    \"\"\"\n",
    "    # TODO: Implement Function\n",
    "    #First we get the embedded layer vectors with get_embed\n",
    "    embed_vectors = get_embed(input_data, vocab_size, embed_dim)\n",
    "    #next we need to use the embed_vectors as an input to build the rnn, along with the rnn cell information\n",
    "    Outputs, FinalState = build_rnn(cell, embed_vectors)\n",
    "    #next we get the logits by using a fully connected layer with linear activation. To use linear activation, according to\n",
    "    #tensorflow's documentation, \"Explicitly set it to None to skip it and maintain a linear activation.\"\n",
    "    Logits = tf.contrib.layers.fully_connected(Outputs, vocab_size, activation_fn=None)\n",
    "\n",
    "    return (Logits, FinalState)\n",
    "\n",
    "\n",
    "\"\"\"\n",
    "DON'T MODIFY ANYTHING IN THIS CELL THAT IS BELOW THIS LINE\n",
    "\"\"\"\n",
    "tests.test_build_nn(build_nn)"
   ]
  },
  {
   "cell_type": "markdown",
   "metadata": {},
   "source": [
    "### Batches\n",
    "Implement `get_batches` to create batches of input and targets using `int_text`.  The batches should be a Numpy array with the shape `(number of batches, 2, batch size, sequence length)`. Each batch contains two elements:\n",
    "- The first element is a single batch of **input** with the shape `[batch size, sequence length]`\n",
    "- The second element is a single batch of **targets** with the shape `[batch size, sequence length]`\n",
    "\n",
    "If you can't fill the last batch with enough data, drop the last batch.\n",
    "\n",
    "For exmple, `get_batches([1, 2, 3, 4, 5, 6, 7, 8, 9, 10, 11, 12, 13, 14, 15, 16, 17, 18, 19, 20], 3, 2)` would return a Numpy array of the following:\n",
    "```\n",
    "[\n",
    "  # First Batch\n",
    "  [\n",
    "    # Batch of Input\n",
    "    [[ 1  2], [ 7  8], [13 14]]\n",
    "    # Batch of targets\n",
    "    [[ 2  3], [ 8  9], [14 15]]\n",
    "  ]\n",
    "\n",
    "  # Second Batch\n",
    "  [\n",
    "    # Batch of Input\n",
    "    [[ 3  4], [ 9 10], [15 16]]\n",
    "    # Batch of targets\n",
    "    [[ 4  5], [10 11], [16 17]]\n",
    "  ]\n",
    "\n",
    "  # Third Batch\n",
    "  [\n",
    "    # Batch of Input\n",
    "    [[ 5  6], [11 12], [17 18]]\n",
    "    # Batch of targets\n",
    "    [[ 6  7], [12 13], [18  1]]\n",
    "  ]\n",
    "]\n",
    "```\n",
    "\n",
    "Notice that the last target value in the last batch is the first input value of the first batch. In this case, `1`. This is a common technique used when creating sequence batches, although it is rather unintuitive."
   ]
  },
  {
   "cell_type": "code",
   "execution_count": 244,
   "metadata": {},
   "outputs": [
    {
     "name": "stdout",
     "output_type": "stream",
     "text": [
      "Tests Passed\n"
     ]
    }
   ],
   "source": [
    "def get_batches(int_text, batch_size, seq_length):\n",
    "    \"\"\"\n",
    "    Return batches of input and target\n",
    "    :param int_text: Text with the words replaced by their ids\n",
    "    :param batch_size: The size of batch\n",
    "    :param seq_length: The length of sequence\n",
    "    :return: Batches as a Numpy array\n",
    "    \"\"\"\n",
    "    \n",
    "    \n",
    "    # TODO: Implement Function\n",
    "    #In the above example there are 6 characters per batch, that is basically the product of the batch size and the sequence length\n",
    "    characters_per_batch = batch_size * seq_length\n",
    "    num_batches = int(len(int_text) / characters_per_batch)\n",
    "\n",
    "    \n",
    "    #Leave enough characters to make a full batch always and make this a numpy array\n",
    "    input_data = np.array(int_text[:num_batches * characters_per_batch])\n",
    "\n",
    "    \n",
    "    #targets basically here move over to the next input sequence index (from the above example)\n",
    "    targets_data = np.array(int_text[1 : (num_batches * characters_per_batch) + 1])\n",
    "    \n",
    "    #this line was added as a unit test was failing where the last target item is not the same as the first input item\n",
    "    targets_data[-1] = input_data[0]\n",
    " \n",
    "    #Now we need to reshape the inputs\n",
    "    input_reshaped_numpy = input_data.reshape(batch_size, -1)\n",
    "    \n",
    "    #similary we need to reshape the targets\n",
    "    target_reshaped_numpy = targets_data.reshape(batch_size, -1)\n",
    "    \n",
    "    #We can use np.split to split the reshaeped numpy array into the given batch size and 1\n",
    "    \n",
    "    input_batches = np.split(input_reshaped_numpy, num_batches, 1)\n",
    "    target_batches = np.split(target_reshaped_numpy, num_batches, 1)\n",
    "    \n",
    "    # Now we want to iterate over the two batches (input and target) in parallel,\n",
    "    #For this we can use zip and get a list of the input and target batches into a numpy array which is our output result\n",
    "    \n",
    "    output_batches = np.array(list(zip(input_batches, target_batches)))\n",
    "    return output_batches\n",
    "    \n",
    "\n",
    "\"\"\"\n",
    "DON'T MODIFY ANYTHING IN THIS CELL THAT IS BELOW THIS LINE\n",
    "\"\"\"\n",
    "tests.test_get_batches(get_batches)"
   ]
  },
  {
   "cell_type": "markdown",
   "metadata": {},
   "source": [
    "## Neural Network Training\n",
    "### Hyperparameters\n",
    "Tune the following parameters:\n",
    "\n",
    "- Set `num_epochs` to the number of epochs.\n",
    "- Set `batch_size` to the batch size.\n",
    "- Set `rnn_size` to the size of the RNNs.\n",
    "- Set `embed_dim` to the size of the embedding.\n",
    "- Set `seq_length` to the length of sequence.\n",
    "- Set `learning_rate` to the learning rate.\n",
    "- Set `show_every_n_batches` to the number of batches the neural network should print progress."
   ]
  },
  {
   "cell_type": "code",
   "execution_count": 245,
   "metadata": {},
   "outputs": [],
   "source": [
    "# Number of Epochs\n",
    "num_epochs = 50\n",
    "# Batch Size\n",
    "batch_size = 128\n",
    "# RNN Size\n",
    "rnn_size = 1024\n",
    "# Embedding Dimension Size\n",
    "embed_dim = 200\n",
    "# Sequence Length\n",
    "seq_length = 16\n",
    "# Learning Rate\n",
    "learning_rate = 0.01\n",
    "# Show stats for every n number of batches\n",
    "show_every_n_batches = 10\n",
    "\n",
    "\"\"\"\n",
    "Epoch  46 Batch   32/33   train_loss = 0.883\n",
    "Epoch  47 Batch    9/33   train_loss = 0.898\n",
    "Epoch  47 Batch   19/33   train_loss = 0.897\n",
    "Epoch  47 Batch   29/33   train_loss = 0.911\n",
    "Epoch  48 Batch    6/33   train_loss = 0.869\n",
    "Epoch  48 Batch   16/33   train_loss = 0.949\n",
    "Epoch  48 Batch   26/33   train_loss = 0.933\n",
    "Epoch  49 Batch    3/33   train_loss = 0.886\n",
    "Epoch  49 Batch   13/33   train_loss = 0.922\n",
    "Epoch  49 Batch   23/33   train_loss = 0.881\n",
    "Model Trained and Saved\n",
    "\"\"\"\n",
    "\n",
    "\"\"\"\n",
    "DON'T MODIFY ANYTHING IN THIS CELL THAT IS BELOW THIS LINE\n",
    "\"\"\"\n",
    "save_dir = './save'"
   ]
  },
  {
   "cell_type": "markdown",
   "metadata": {},
   "source": [
    "### Build the Graph\n",
    "Build the graph using the neural network you implemented."
   ]
  },
  {
   "cell_type": "code",
   "execution_count": 246,
   "metadata": {},
   "outputs": [],
   "source": [
    "\"\"\"\n",
    "DON'T MODIFY ANYTHING IN THIS CELL\n",
    "\"\"\"\n",
    "from tensorflow.contrib import seq2seq\n",
    "\n",
    "train_graph = tf.Graph()\n",
    "with train_graph.as_default():\n",
    "    vocab_size = len(int_to_vocab)\n",
    "    input_text, targets, lr = get_inputs()\n",
    "    input_data_shape = tf.shape(input_text)\n",
    "    cell, initial_state = get_init_cell(input_data_shape[0], rnn_size)\n",
    "    logits, final_state = build_nn(cell, rnn_size, input_text, vocab_size, embed_dim)\n",
    "\n",
    "    # Probabilities for generating words\n",
    "    probs = tf.nn.softmax(logits, name='probs')\n",
    "\n",
    "    # Loss function\n",
    "    cost = seq2seq.sequence_loss(\n",
    "        logits,\n",
    "        targets,\n",
    "        tf.ones([input_data_shape[0], input_data_shape[1]]))\n",
    "\n",
    "    # Optimizer\n",
    "    optimizer = tf.train.AdamOptimizer(lr)\n",
    "\n",
    "    # Gradient Clipping\n",
    "    gradients = optimizer.compute_gradients(cost)\n",
    "    capped_gradients = [(tf.clip_by_value(grad, -1., 1.), var) for grad, var in gradients if grad is not None]\n",
    "    train_op = optimizer.apply_gradients(capped_gradients)"
   ]
  },
  {
   "cell_type": "markdown",
   "metadata": {},
   "source": [
    "## Train\n",
    "Train the neural network on the preprocessed data.  If you have a hard time getting a good loss, check the [forums](https://discussions.udacity.com/) to see if anyone is having the same problem."
   ]
  },
  {
   "cell_type": "code",
   "execution_count": 247,
   "metadata": {},
   "outputs": [
    {
     "name": "stdout",
     "output_type": "stream",
     "text": [
      "Epoch   0 Batch    0/33   train_loss = 8.817\n",
      "Epoch   0 Batch   10/33   train_loss = 8.442\n",
      "Epoch   0 Batch   20/33   train_loss = 6.662\n",
      "Epoch   0 Batch   30/33   train_loss = 6.025\n",
      "Epoch   1 Batch    7/33   train_loss = 5.697\n",
      "Epoch   1 Batch   17/33   train_loss = 5.424\n",
      "Epoch   1 Batch   27/33   train_loss = 5.284\n",
      "Epoch   2 Batch    4/33   train_loss = 4.976\n",
      "Epoch   2 Batch   14/33   train_loss = 4.970\n",
      "Epoch   2 Batch   24/33   train_loss = 4.729\n",
      "Epoch   3 Batch    1/33   train_loss = 4.392\n",
      "Epoch   3 Batch   11/33   train_loss = 4.320\n",
      "Epoch   3 Batch   21/33   train_loss = 4.386\n",
      "Epoch   3 Batch   31/33   train_loss = 4.177\n",
      "Epoch   4 Batch    8/33   train_loss = 4.114\n",
      "Epoch   4 Batch   18/33   train_loss = 3.917\n",
      "Epoch   4 Batch   28/33   train_loss = 3.788\n",
      "Epoch   5 Batch    5/33   train_loss = 3.782\n",
      "Epoch   5 Batch   15/33   train_loss = 3.641\n",
      "Epoch   5 Batch   25/33   train_loss = 3.483\n",
      "Epoch   6 Batch    2/33   train_loss = 3.322\n",
      "Epoch   6 Batch   12/33   train_loss = 3.401\n",
      "Epoch   6 Batch   22/33   train_loss = 3.229\n",
      "Epoch   6 Batch   32/33   train_loss = 3.078\n",
      "Epoch   7 Batch    9/33   train_loss = 3.073\n",
      "Epoch   7 Batch   19/33   train_loss = 2.927\n",
      "Epoch   7 Batch   29/33   train_loss = 2.748\n",
      "Epoch   8 Batch    6/33   train_loss = 2.722\n",
      "Epoch   8 Batch   16/33   train_loss = 2.755\n",
      "Epoch   8 Batch   26/33   train_loss = 2.639\n",
      "Epoch   9 Batch    3/33   train_loss = 2.449\n",
      "Epoch   9 Batch   13/33   train_loss = 2.500\n",
      "Epoch   9 Batch   23/33   train_loss = 2.406\n",
      "Epoch  10 Batch    0/33   train_loss = 2.262\n",
      "Epoch  10 Batch   10/33   train_loss = 2.088\n",
      "Epoch  10 Batch   20/33   train_loss = 2.246\n",
      "Epoch  10 Batch   30/33   train_loss = 2.182\n",
      "Epoch  11 Batch    7/33   train_loss = 1.894\n",
      "Epoch  11 Batch   17/33   train_loss = 1.992\n",
      "Epoch  11 Batch   27/33   train_loss = 1.937\n",
      "Epoch  12 Batch    4/33   train_loss = 1.765\n",
      "Epoch  12 Batch   14/33   train_loss = 1.638\n",
      "Epoch  12 Batch   24/33   train_loss = 1.763\n",
      "Epoch  13 Batch    1/33   train_loss = 1.603\n",
      "Epoch  13 Batch   11/33   train_loss = 1.477\n",
      "Epoch  13 Batch   21/33   train_loss = 1.559\n",
      "Epoch  13 Batch   31/33   train_loss = 1.481\n",
      "Epoch  14 Batch    8/33   train_loss = 1.376\n",
      "Epoch  14 Batch   18/33   train_loss = 1.349\n",
      "Epoch  14 Batch   28/33   train_loss = 1.379\n",
      "Epoch  15 Batch    5/33   train_loss = 1.348\n",
      "Epoch  15 Batch   15/33   train_loss = 1.174\n",
      "Epoch  15 Batch   25/33   train_loss = 1.349\n",
      "Epoch  16 Batch    2/33   train_loss = 1.283\n",
      "Epoch  16 Batch   12/33   train_loss = 1.200\n",
      "Epoch  16 Batch   22/33   train_loss = 1.208\n",
      "Epoch  16 Batch   32/33   train_loss = 1.164\n",
      "Epoch  17 Batch    9/33   train_loss = 1.194\n",
      "Epoch  17 Batch   19/33   train_loss = 1.039\n",
      "Epoch  17 Batch   29/33   train_loss = 1.166\n",
      "Epoch  18 Batch    6/33   train_loss = 1.017\n",
      "Epoch  18 Batch   16/33   train_loss = 1.039\n",
      "Epoch  18 Batch   26/33   train_loss = 1.059\n",
      "Epoch  19 Batch    3/33   train_loss = 1.027\n",
      "Epoch  19 Batch   13/33   train_loss = 0.998\n",
      "Epoch  19 Batch   23/33   train_loss = 0.922\n",
      "Epoch  20 Batch    0/33   train_loss = 0.992\n",
      "Epoch  20 Batch   10/33   train_loss = 0.876\n",
      "Epoch  20 Batch   20/33   train_loss = 0.892\n",
      "Epoch  20 Batch   30/33   train_loss = 0.907\n",
      "Epoch  21 Batch    7/33   train_loss = 0.923\n",
      "Epoch  21 Batch   17/33   train_loss = 0.883\n",
      "Epoch  21 Batch   27/33   train_loss = 0.869\n",
      "Epoch  22 Batch    4/33   train_loss = 0.841\n",
      "Epoch  22 Batch   14/33   train_loss = 0.808\n",
      "Epoch  22 Batch   24/33   train_loss = 0.847\n",
      "Epoch  23 Batch    1/33   train_loss = 0.820\n",
      "Epoch  23 Batch   11/33   train_loss = 0.774\n",
      "Epoch  23 Batch   21/33   train_loss = 0.777\n",
      "Epoch  23 Batch   31/33   train_loss = 0.783\n",
      "Epoch  24 Batch    8/33   train_loss = 0.791\n",
      "Epoch  24 Batch   18/33   train_loss = 0.689\n",
      "Epoch  24 Batch   28/33   train_loss = 0.695\n",
      "Epoch  25 Batch    5/33   train_loss = 0.672\n",
      "Epoch  25 Batch   15/33   train_loss = 0.701\n",
      "Epoch  25 Batch   25/33   train_loss = 0.684\n",
      "Epoch  26 Batch    2/33   train_loss = 0.703\n",
      "Epoch  26 Batch   12/33   train_loss = 0.704\n",
      "Epoch  26 Batch   22/33   train_loss = 0.655\n",
      "Epoch  26 Batch   32/33   train_loss = 0.612\n",
      "Epoch  27 Batch    9/33   train_loss = 0.664\n",
      "Epoch  27 Batch   19/33   train_loss = 0.651\n",
      "Epoch  27 Batch   29/33   train_loss = 0.650\n",
      "Epoch  28 Batch    6/33   train_loss = 0.642\n",
      "Epoch  28 Batch   16/33   train_loss = 0.630\n",
      "Epoch  28 Batch   26/33   train_loss = 0.624\n",
      "Epoch  29 Batch    3/33   train_loss = 0.638\n",
      "Epoch  29 Batch   13/33   train_loss = 0.628\n",
      "Epoch  29 Batch   23/33   train_loss = 0.627\n",
      "Epoch  30 Batch    0/33   train_loss = 0.635\n",
      "Epoch  30 Batch   10/33   train_loss = 0.622\n",
      "Epoch  30 Batch   20/33   train_loss = 0.631\n",
      "Epoch  30 Batch   30/33   train_loss = 0.677\n",
      "Epoch  31 Batch    7/33   train_loss = 0.636\n",
      "Epoch  31 Batch   17/33   train_loss = 0.667\n",
      "Epoch  31 Batch   27/33   train_loss = 0.637\n",
      "Epoch  32 Batch    4/33   train_loss = 0.646\n",
      "Epoch  32 Batch   14/33   train_loss = 0.653\n",
      "Epoch  32 Batch   24/33   train_loss = 0.682\n",
      "Epoch  33 Batch    1/33   train_loss = 0.615\n",
      "Epoch  33 Batch   11/33   train_loss = 0.652\n",
      "Epoch  33 Batch   21/33   train_loss = 0.631\n",
      "Epoch  33 Batch   31/33   train_loss = 0.668\n",
      "Epoch  34 Batch    8/33   train_loss = 0.668\n",
      "Epoch  34 Batch   18/33   train_loss = 0.655\n",
      "Epoch  34 Batch   28/33   train_loss = 0.651\n",
      "Epoch  35 Batch    5/33   train_loss = 0.660\n",
      "Epoch  35 Batch   15/33   train_loss = 0.660\n",
      "Epoch  35 Batch   25/33   train_loss = 0.714\n",
      "Epoch  36 Batch    2/33   train_loss = 0.716\n",
      "Epoch  36 Batch   12/33   train_loss = 0.755\n",
      "Epoch  36 Batch   22/33   train_loss = 0.643\n",
      "Epoch  36 Batch   32/33   train_loss = 0.680\n",
      "Epoch  37 Batch    9/33   train_loss = 0.744\n",
      "Epoch  37 Batch   19/33   train_loss = 0.696\n",
      "Epoch  37 Batch   29/33   train_loss = 0.699\n",
      "Epoch  38 Batch    6/33   train_loss = 0.706\n",
      "Epoch  38 Batch   16/33   train_loss = 0.753\n",
      "Epoch  38 Batch   26/33   train_loss = 0.764\n",
      "Epoch  39 Batch    3/33   train_loss = 0.724\n",
      "Epoch  39 Batch   13/33   train_loss = 0.766\n",
      "Epoch  39 Batch   23/33   train_loss = 0.801\n",
      "Epoch  40 Batch    0/33   train_loss = 0.757\n",
      "Epoch  40 Batch   10/33   train_loss = 0.758\n",
      "Epoch  40 Batch   20/33   train_loss = 0.794\n",
      "Epoch  40 Batch   30/33   train_loss = 0.807\n",
      "Epoch  41 Batch    7/33   train_loss = 0.787\n",
      "Epoch  41 Batch   17/33   train_loss = 0.825\n",
      "Epoch  41 Batch   27/33   train_loss = 0.849\n",
      "Epoch  42 Batch    4/33   train_loss = 0.881\n",
      "Epoch  42 Batch   14/33   train_loss = 0.867\n",
      "Epoch  42 Batch   24/33   train_loss = 0.904\n",
      "Epoch  43 Batch    1/33   train_loss = 0.865\n",
      "Epoch  43 Batch   11/33   train_loss = 0.881\n",
      "Epoch  43 Batch   21/33   train_loss = 0.907\n",
      "Epoch  43 Batch   31/33   train_loss = 0.910\n",
      "Epoch  44 Batch    8/33   train_loss = 0.906\n",
      "Epoch  44 Batch   18/33   train_loss = 0.857\n",
      "Epoch  44 Batch   28/33   train_loss = 0.907\n",
      "Epoch  45 Batch    5/33   train_loss = 0.883\n",
      "Epoch  45 Batch   15/33   train_loss = 0.897\n",
      "Epoch  45 Batch   25/33   train_loss = 0.877\n",
      "Epoch  46 Batch    2/33   train_loss = 0.908\n",
      "Epoch  46 Batch   12/33   train_loss = 0.918\n",
      "Epoch  46 Batch   22/33   train_loss = 0.864\n",
      "Epoch  46 Batch   32/33   train_loss = 0.883\n",
      "Epoch  47 Batch    9/33   train_loss = 0.898\n",
      "Epoch  47 Batch   19/33   train_loss = 0.897\n",
      "Epoch  47 Batch   29/33   train_loss = 0.911\n",
      "Epoch  48 Batch    6/33   train_loss = 0.869\n",
      "Epoch  48 Batch   16/33   train_loss = 0.949\n",
      "Epoch  48 Batch   26/33   train_loss = 0.933\n",
      "Epoch  49 Batch    3/33   train_loss = 0.886\n",
      "Epoch  49 Batch   13/33   train_loss = 0.922\n",
      "Epoch  49 Batch   23/33   train_loss = 0.881\n",
      "Model Trained and Saved\n"
     ]
    }
   ],
   "source": [
    "\"\"\"\n",
    "DON'T MODIFY ANYTHING IN THIS CELL\n",
    "\"\"\"\n",
    "batches = get_batches(int_text, batch_size, seq_length)\n",
    "\n",
    "with tf.Session(graph=train_graph) as sess:\n",
    "    sess.run(tf.global_variables_initializer())\n",
    "\n",
    "    for epoch_i in range(num_epochs):\n",
    "        state = sess.run(initial_state, {input_text: batches[0][0]})\n",
    "\n",
    "        for batch_i, (x, y) in enumerate(batches):\n",
    "            feed = {\n",
    "                input_text: x,\n",
    "                targets: y,\n",
    "                initial_state: state,\n",
    "                lr: learning_rate}\n",
    "            train_loss, state, _ = sess.run([cost, final_state, train_op], feed)\n",
    "\n",
    "            # Show every <show_every_n_batches> batches\n",
    "            if (epoch_i * len(batches) + batch_i) % show_every_n_batches == 0:\n",
    "                print('Epoch {:>3} Batch {:>4}/{}   train_loss = {:.3f}'.format(\n",
    "                    epoch_i,\n",
    "                    batch_i,\n",
    "                    len(batches),\n",
    "                    train_loss))\n",
    "\n",
    "    # Save Model\n",
    "    saver = tf.train.Saver()\n",
    "    saver.save(sess, save_dir)\n",
    "    print('Model Trained and Saved')"
   ]
  },
  {
   "cell_type": "markdown",
   "metadata": {},
   "source": [
    "## Save Parameters\n",
    "Save `seq_length` and `save_dir` for generating a new TV script."
   ]
  },
  {
   "cell_type": "code",
   "execution_count": 248,
   "metadata": {},
   "outputs": [],
   "source": [
    "\"\"\"\n",
    "DON'T MODIFY ANYTHING IN THIS CELL\n",
    "\"\"\"\n",
    "# Save parameters for checkpoint\n",
    "helper.save_params((seq_length, save_dir))"
   ]
  },
  {
   "cell_type": "markdown",
   "metadata": {},
   "source": [
    "# Checkpoint"
   ]
  },
  {
   "cell_type": "code",
   "execution_count": 249,
   "metadata": {},
   "outputs": [],
   "source": [
    "\"\"\"\n",
    "DON'T MODIFY ANYTHING IN THIS CELL\n",
    "\"\"\"\n",
    "import tensorflow as tf\n",
    "import numpy as np\n",
    "import helper\n",
    "import problem_unittests as tests\n",
    "\n",
    "_, vocab_to_int, int_to_vocab, token_dict = helper.load_preprocess()\n",
    "seq_length, load_dir = helper.load_params()"
   ]
  },
  {
   "cell_type": "markdown",
   "metadata": {},
   "source": [
    "## Implement Generate Functions\n",
    "### Get Tensors\n",
    "Get tensors from `loaded_graph` using the function [`get_tensor_by_name()`](https://www.tensorflow.org/api_docs/python/tf/Graph#get_tensor_by_name).  Get the tensors using the following names:\n",
    "- \"input:0\"\n",
    "- \"initial_state:0\"\n",
    "- \"final_state:0\"\n",
    "- \"probs:0\"\n",
    "\n",
    "Return the tensors in the following tuple `(InputTensor, InitialStateTensor, FinalStateTensor, ProbsTensor)` "
   ]
  },
  {
   "cell_type": "code",
   "execution_count": 250,
   "metadata": {},
   "outputs": [
    {
     "name": "stdout",
     "output_type": "stream",
     "text": [
      "Tests Passed\n"
     ]
    }
   ],
   "source": [
    "def get_tensors(loaded_graph):\n",
    "    \"\"\"\n",
    "    Get input, initial state, final state, and probabilities tensor from <loaded_graph>\n",
    "    :param loaded_graph: TensorFlow graph loaded from file\n",
    "    :return: Tuple (InputTensor, InitialStateTensor, FinalStateTensor, ProbsTensor)\n",
    "    \"\"\"\n",
    "    # TODO: Implement Function\n",
    "    input_tensor = loaded_graph.get_tensor_by_name(\"input:0\")\n",
    "    initial_state = loaded_graph.get_tensor_by_name(\"initial_state:0\")\n",
    "    final_state = loaded_graph.get_tensor_by_name(\"final_state:0\")\n",
    "    probabilities = loaded_graph.get_tensor_by_name(\"probs:0\")\n",
    "    return input_tensor, initial_state, final_state, probabilities\n",
    "\n",
    "\n",
    "\"\"\"\n",
    "DON'T MODIFY ANYTHING IN THIS CELL THAT IS BELOW THIS LINE\n",
    "\"\"\"\n",
    "tests.test_get_tensors(get_tensors)"
   ]
  },
  {
   "cell_type": "markdown",
   "metadata": {},
   "source": [
    "### Choose Word\n",
    "Implement the `pick_word()` function to select the next word using `probabilities`."
   ]
  },
  {
   "cell_type": "code",
   "execution_count": 251,
   "metadata": {},
   "outputs": [
    {
     "name": "stdout",
     "output_type": "stream",
     "text": [
      "Tests Passed\n"
     ]
    }
   ],
   "source": [
    "import random\n",
    "def pick_word(probabilities, int_to_vocab):\n",
    "    \"\"\"\n",
    "    Pick the next word in the generated text\n",
    "    :param probabilities: Probabilites of the next word\n",
    "    :param int_to_vocab: Dictionary of word ids as the keys and words as the values\n",
    "    :return: String of the predicted word\n",
    "    \"\"\"\n",
    "    # TODO: Implement Function\n",
    "    # This has been insipired from this book: https://www.safaribooksonline.com/library/view/python-cookbook-2nd/0596007973/ch04s22.html\n",
    "    # Basicaly what is going on is, we have a next word to pick and probabilties of the next word to pick. \n",
    "    # So what we do is, we import the random module, and pick a random number that is picked in a uniform distribution between 0 and 1\n",
    "    # Then we enumerate throught the dictionary and get a word and a index at which it is at. We compute the cumilative probability till\n",
    "    # that point and if it exceeds the randomly generated number from the uniform distribution, we pick that cumilative prob.\n",
    "    # This approach was taken as opposed to random.choice as random.choice picks with equal probability \n",
    "    x = random.uniform(0,1)\n",
    "    cumilative_probability = 0.0\n",
    "    for index,word in enumerate(int_to_vocab):\n",
    "        cumilative_probability = cumilative_probability + probabilities[index]\n",
    "        if (x < cumilative_probability):\n",
    "            break\n",
    "        \n",
    "    return int_to_vocab[word]\n",
    "\n",
    "\n",
    "\"\"\"\n",
    "DON'T MODIFY ANYTHING IN THIS CELL THAT IS BELOW THIS LINE\n",
    "\"\"\"\n",
    "tests.test_pick_word(pick_word)"
   ]
  },
  {
   "cell_type": "markdown",
   "metadata": {},
   "source": [
    "## Generate TV Script\n",
    "This will generate the TV script for you.  Set `gen_length` to the length of TV script you want to generate."
   ]
  },
  {
   "cell_type": "code",
   "execution_count": 252,
   "metadata": {},
   "outputs": [
    {
     "name": "stdout",
     "output_type": "stream",
     "text": [
      "moe_szyslak:\n",
      "homer_simpson:(shaking head) that's how i hope you'll do that voice comin' from he's the worst thing.\n",
      "moe_szyslak: i got this will make you tonight. i've got a date with you...\n",
      "moe_szyslak: i got no candy, i heard, moe.\n",
      "homer_simpson: too fragile. they never pay better with you.\n",
      "lenny_leonard: come on, homer.\n",
      "homer_simpson: you came to the super guy buy you that i just want my jasper_beardly: how?\n",
      "moe_szyslak:(lying) my adeleine.\n",
      "moe_szyslak:(sniffles) i can't believe that. that's great. i'm going to... who said that?\n",
      "carl_carlson: my marriage. and punches!\n",
      "c. _montgomery_burns: smithers, and you could i've been taking years.\n",
      "barney_gumble:(sighs) lenny, i get a project to make: i got is twenty-five. i am gonna gut you didn't even their beer.\n",
      "homer_simpson:(gasp) na na by your theory of a... while you marge, who's surprised that mole anywhere up to look) hey,\n"
     ]
    }
   ],
   "source": [
    "gen_length = 200\n",
    "# homer_simpson, moe_szyslak, or Barney_Gumble\n",
    "prime_word = 'moe_szyslak'\n",
    "\n",
    "\"\"\"\n",
    "DON'T MODIFY ANYTHING IN THIS CELL THAT IS BELOW THIS LINE\n",
    "\"\"\"\n",
    "loaded_graph = tf.Graph()\n",
    "with tf.Session(graph=loaded_graph) as sess:\n",
    "    # Load saved model\n",
    "    loader = tf.train.import_meta_graph(load_dir + '.meta')\n",
    "    loader.restore(sess, load_dir)\n",
    "\n",
    "    # Get Tensors from loaded model\n",
    "    input_text, initial_state, final_state, probs = get_tensors(loaded_graph)\n",
    "\n",
    "    # Sentences generation setup\n",
    "    gen_sentences = [prime_word + ':']\n",
    "    prev_state = sess.run(initial_state, {input_text: np.array([[1]])})\n",
    "\n",
    "    # Generate sentences\n",
    "    for n in range(gen_length):\n",
    "        # Dynamic Input\n",
    "        dyn_input = [[vocab_to_int[word] for word in gen_sentences[-seq_length:]]]\n",
    "        dyn_seq_length = len(dyn_input[0])\n",
    "\n",
    "        # Get Prediction\n",
    "        probabilities, prev_state = sess.run(\n",
    "            [probs, final_state],\n",
    "            {input_text: dyn_input, initial_state: prev_state})\n",
    "        \n",
    "        pred_word = pick_word(probabilities[dyn_seq_length-1], int_to_vocab)\n",
    "\n",
    "        gen_sentences.append(pred_word)\n",
    "    \n",
    "    # Remove tokens\n",
    "    tv_script = ' '.join(gen_sentences)\n",
    "    for key, token in token_dict.items():\n",
    "        ending = ' ' if key in ['\\n', '(', '\"'] else ''\n",
    "        tv_script = tv_script.replace(' ' + token.lower(), key)\n",
    "    tv_script = tv_script.replace('\\n ', '\\n')\n",
    "    tv_script = tv_script.replace('( ', '(')\n",
    "        \n",
    "    print(tv_script)"
   ]
  },
  {
   "cell_type": "markdown",
   "metadata": {},
   "source": [
    "# The TV Script is Nonsensical\n",
    "It's ok if the TV script doesn't make any sense.  We trained on less than a megabyte of text.  In order to get good results, you'll have to use a smaller vocabulary or get more data.  Luckly there's more data!  As we mentioned in the begging of this project, this is a subset of [another dataset](https://www.kaggle.com/wcukierski/the-simpsons-by-the-data).  We didn't have you train on all the data, because that would take too long.  However, you are free to train your neural network on all the data.  After you complete the project, of course.\n",
    "# Submitting This Project\n",
    "When submitting this project, make sure to run all the cells before saving the notebook. Save the notebook file as \"dlnd_tv_script_generation.ipynb\" and save it as a HTML file under \"File\" -> \"Download as\". Include the \"helper.py\" and \"problem_unittests.py\" files in your submission."
   ]
  }
 ],
 "metadata": {
  "kernelspec": {
   "display_name": "Python 3",
   "language": "python",
   "name": "python3"
  },
  "language_info": {
   "codemirror_mode": {
    "name": "ipython",
    "version": 3
   },
   "file_extension": ".py",
   "mimetype": "text/x-python",
   "name": "python",
   "nbconvert_exporter": "python",
   "pygments_lexer": "ipython3",
   "version": "3.5.2"
  },
  "widgets": {
   "state": {},
   "version": "1.1.2"
  }
 },
 "nbformat": 4,
 "nbformat_minor": 1
}
